{
 "cells": [
  {
   "cell_type": "markdown",
   "metadata": {},
   "source": [
    "# Building a Deep Autoencoder - Lab\n",
    "\n",
    "## Introduction\n",
    "\n",
    "Deep auto encoders are characterized by having more than one layers in their encoder and decoder components. In this lab, we will mainly repeat the last experiment, but using a deep architecture instead of a simple feed forward styles networks for encoding and decoding the last lab. \n",
    "\n",
    "## Objectives\n",
    "\n",
    "You will be able to:\n",
    "- Build a deep autoencoder in Keras\n",
    "- Create the encoder and decoder functions as multiple fully connected layers \n",
    "- Train an autoencoder with selected loss function and optimizer"
   ]
  },
  {
   "cell_type": "markdown",
   "metadata": {},
   "source": [
    "## Deep Autoencoders\n",
    "\n",
    "The extension of the simple Autoencoder is the __Deep Autoencoder__. The first layer of the Deep Autoencoder is used for first-order features in the raw input. The second layer is used for second-order features corresponding to patterns in the appearance of first-order features. This is also knows as FoF in deep learning i.e. Features of Features. Deeper layers of the Deep Autoencoder tend to learn even higher-order features.\n",
    "\n",
    "A deep autoencoder is composed of two, symmetrical deep-belief networks\n",
    "\n",
    "> __DBN (Deep belief Network)__ is a class of deep neural network which comprises of multiple layer of graphical model having both directed and undirected edges. It is composed of multiple layers of hidden units, where each layers are connected with each others but units are not. [Visist here](https://codeburst.io/deep-learning-deep-belief-network-fundamentals-d0dcfd80d7d4) for details. \n",
    "\n",
    "\n",
    "\n",
    "First four or five shallow layers representing the encoding half of the net.\n",
    "The second set of four or five layers that make up the decoding half."
   ]
  },
  {
   "cell_type": "markdown",
   "metadata": {},
   "source": [
    "<img src=\"deep.png\" width=600>"
   ]
  },
  {
   "cell_type": "markdown",
   "metadata": {},
   "source": [
    "In our previous lab, we used single fully-connected layers for both the encoding and decoding models while building a simple AE. With deep AE, we can stack multiple fully-connected layers to make each of the encoder and decoder functions __deep__, turning our simple model into a deep architecture.\n",
    "\n",
    "In this lab, we'll do just that: we'll repeat the initial problem setup, importing the same dataset and performing the same preprocessing. From there, we'll once again build an autoencoder, but this time, we will stack multiple layers in order to improve our performance."
   ]
  },
  {
   "cell_type": "markdown",
   "metadata": {},
   "source": [
    "## Import the code for reading + preprocessing  fashion-MNIST dataset "
   ]
  },
  {
   "cell_type": "code",
   "execution_count": 1,
   "metadata": {},
   "outputs": [
    {
     "name": "stderr",
     "output_type": "stream",
     "text": [
      "Using TensorFlow backend.\n"
     ]
    }
   ],
   "source": [
    "# Import necessary libraries\n",
    "import numpy as np\n",
    "\n",
    "import keras\n",
    "from keras import regularizers\n",
    "from keras.layers import Input, Dense, Conv2D, MaxPooling2D, UpSampling2D, Flatten, Reshape\n",
    "from keras.models import Model, Sequential\n",
    "from keras.datasets import fashion_mnist\n",
    "\n",
    "import matplotlib.pyplot as plt\n",
    "from IPython.display import Image"
   ]
  },
  {
   "cell_type": "code",
   "execution_count": 2,
   "metadata": {},
   "outputs": [
    {
     "data": {
      "text/plain": [
       "((60000, 28, 28), (10000, 28, 28))"
      ]
     },
     "execution_count": 2,
     "metadata": {},
     "output_type": "execute_result"
    }
   ],
   "source": [
    "# Load the training and test data sets (ignoring labels)\n",
    "(x_train, _), (x_test, _) = fashion_mnist.load_data()\n",
    "\n",
    "# Normalize the train and test data to a range between 0 and 1\n",
    "max_value = float(x_train.max())\n",
    "x_train   = x_train.astype('float32') / max_value\n",
    "x_test    = x_test.astype('float32') / max_value\n",
    "x_train.shape, x_test.shape"
   ]
  },
  {
   "cell_type": "code",
   "execution_count": 3,
   "metadata": {},
   "outputs": [
    {
     "data": {
      "text/plain": [
       "((60000, 784), (10000, 784))"
      ]
     },
     "execution_count": 3,
     "metadata": {},
     "output_type": "execute_result"
    }
   ],
   "source": [
    "# Reshape the training data to create 1D vectors\n",
    "x_train = x_train.reshape((len(x_train), \n",
    "                           np.prod(x_train.shape[1:])))\n",
    "\n",
    "x_test  = x_test.reshape((len(x_test), \n",
    "                          np.prod(x_test.shape[1:])))\n",
    "\n",
    "(x_train.shape, x_test.shape)"
   ]
  },
  {
   "cell_type": "markdown",
   "metadata": {},
   "source": [
    "## Build the Deep Autoencoder\n",
    "\n",
    "So this time, we are building a deep autoencoder. The code for this won't be much different to what we saw earlier. Here we are adding a few extra encoding and decoding layers as listed below:\n",
    "\n",
    "- Use 3 fully-connected layers for the encoding model that inputs original 784 dimensions and decrease the dimensionality from 128 to 64 to 32. \n",
    "\n",
    "- Add 3 fully-connected decoder layers that reconstruct the image back to 784 dimensions.\n",
    "- Except for the last layer, use ReLU activation functions in all other layers\n",
    "- Show the model summary \n",
    "\n"
   ]
  },
  {
   "cell_type": "code",
   "execution_count": 4,
   "metadata": {},
   "outputs": [
    {
     "name": "stdout",
     "output_type": "stream",
     "text": [
      "Compression factor: 24.5\n"
     ]
    }
   ],
   "source": [
    "# input dimension = 784 (see shape) \n",
    "input_dim = x_train.shape[1] \n",
    "\n",
    "# encoding dimensions (see tasks)\n",
    "encoding_dim = 32\n",
    "\n",
    "# Calculate the compression factor\n",
    "compression_factor = float(input_dim) / encoding_dim\n",
    "\n",
    "print(f\"Compression factor: {compression_factor}\")"
   ]
  },
  {
   "cell_type": "code",
   "execution_count": 5,
   "metadata": {},
   "outputs": [
    {
     "name": "stdout",
     "output_type": "stream",
     "text": [
      "_________________________________________________________________\n",
      "Layer (type)                 Output Shape              Param #   \n",
      "=================================================================\n",
      "dense_1 (Dense)              (None, 128)               100480    \n",
      "_________________________________________________________________\n",
      "dense_2 (Dense)              (None, 64)                8256      \n",
      "_________________________________________________________________\n",
      "dense_3 (Dense)              (None, 32)                2080      \n",
      "_________________________________________________________________\n",
      "dense_4 (Dense)              (None, 64)                2112      \n",
      "_________________________________________________________________\n",
      "dense_5 (Dense)              (None, 128)               8320      \n",
      "_________________________________________________________________\n",
      "dense_6 (Dense)              (None, 784)               101136    \n",
      "=================================================================\n",
      "Total params: 222,384\n",
      "Trainable params: 222,384\n",
      "Non-trainable params: 0\n",
      "_________________________________________________________________\n"
     ]
    }
   ],
   "source": [
    "# Build the autoencoder model \n",
    "autoencoder = Sequential()\n",
    "\n",
    "# 3 fully-connected encoder layers --> decreasing dimensionality from 128 to 64 to 32\n",
    "autoencoder.add(Dense(4*encoding_dim, input_shape=(input_dim,), activation='relu'))\n",
    "autoencoder.add(Dense(2*encoding_dim, activation='relu'))\n",
    "autoencoder.add(Dense(encoding_dim, activation='relu'))\n",
    "\n",
    "# 3 fully-connected decoder layers --> reconstructing image back to 784 dimensions\n",
    "autoencoder.add(Dense(2*encoding_dim, activation='relu'))\n",
    "autoencoder.add(Dense(4*encoding_dim, activation='relu'))\n",
    "autoencoder.add(Dense(input_dim, activation='sigmoid'))\n",
    "\n",
    "# Show model summary\n",
    "autoencoder.summary()"
   ]
  },
  {
   "cell_type": "markdown",
   "metadata": {},
   "source": [
    "## Extract the Encoder \n",
    "\n",
    "As seen previously, we will now extract the encoder model from the above. Remember the encoder model now consists of the first 3 layers in the autoencoder."
   ]
  },
  {
   "cell_type": "code",
   "execution_count": 6,
   "metadata": {},
   "outputs": [
    {
     "name": "stdout",
     "output_type": "stream",
     "text": [
      "_________________________________________________________________\n",
      "Layer (type)                 Output Shape              Param #   \n",
      "=================================================================\n",
      "input_1 (InputLayer)         (None, 784)               0         \n",
      "_________________________________________________________________\n",
      "dense_1 (Dense)              (None, 128)               100480    \n",
      "_________________________________________________________________\n",
      "dense_2 (Dense)              (None, 64)                8256      \n",
      "_________________________________________________________________\n",
      "dense_3 (Dense)              (None, 32)                2080      \n",
      "=================================================================\n",
      "Total params: 110,816\n",
      "Trainable params: 110,816\n",
      "Non-trainable params: 0\n",
      "_________________________________________________________________\n"
     ]
    }
   ],
   "source": [
    "input_img = Input(shape=(input_dim,))\n",
    "\n",
    "# Extract the first 3 layers of autoencoder ...\n",
    "encoder_layer1 = autoencoder.layers[0]\n",
    "encoder_layer2 = autoencoder.layers[1]\n",
    "encoder_layer3 = autoencoder.layers[2]\n",
    "\n",
    "# ... to create a new encoder model in Keras\n",
    "encoder = Model(input_img, encoder_layer3(encoder_layer2(encoder_layer1(input_img))))\n",
    "\n",
    "encoder.summary()"
   ]
  },
  {
   "cell_type": "markdown",
   "metadata": {},
   "source": [
    "## Train the Model\n",
    "\n",
    "We can now compile the model with Adam optimizer and binary cross entropy loss. Use 20 epochs and a batch size of 256. "
   ]
  },
  {
   "cell_type": "code",
   "execution_count": 7,
   "metadata": {},
   "outputs": [
    {
     "name": "stdout",
     "output_type": "stream",
     "text": [
      "Train on 60000 samples, validate on 10000 samples\n",
      "Epoch 1/20\n",
      "60000/60000 [==============================] - 22s 370us/step - loss: 0.3783 - val_loss: 0.3192\n",
      "Epoch 2/20\n",
      "60000/60000 [==============================] - 18s 306us/step - loss: 0.3099 - val_loss: 0.3069\n",
      "Epoch 3/20\n",
      "60000/60000 [==============================] - 20s 330us/step - loss: 0.3020 - val_loss: 0.3012\n",
      "Epoch 4/20\n",
      "60000/60000 [==============================] - 18s 305us/step - loss: 0.2975 - val_loss: 0.2983\n",
      "Epoch 5/20\n",
      "60000/60000 [==============================] - 19s 324us/step - loss: 0.2946 - val_loss: 0.2956\n",
      "Epoch 6/20\n",
      "60000/60000 [==============================] - 19s 319us/step - loss: 0.2923 - val_loss: 0.2934\n",
      "Epoch 7/20\n",
      "60000/60000 [==============================] - 17s 285us/step - loss: 0.2906 - val_loss: 0.2923\n",
      "Epoch 8/20\n",
      "60000/60000 [==============================] - 17s 277us/step - loss: 0.2892 - val_loss: 0.2911\n",
      "Epoch 9/20\n",
      "60000/60000 [==============================] - 16s 272us/step - loss: 0.2880 - val_loss: 0.2901\n",
      "Epoch 10/20\n",
      "60000/60000 [==============================] - 17s 288us/step - loss: 0.2871 - val_loss: 0.2886\n",
      "Epoch 11/20\n",
      "60000/60000 [==============================] - 17s 284us/step - loss: 0.2860 - val_loss: 0.2879\n",
      "Epoch 12/20\n",
      "60000/60000 [==============================] - 17s 277us/step - loss: 0.2852 - val_loss: 0.2871\n",
      "Epoch 13/20\n",
      "60000/60000 [==============================] - 17s 283us/step - loss: 0.2846 - val_loss: 0.2864\n",
      "Epoch 14/20\n",
      "60000/60000 [==============================] - 17s 276us/step - loss: 0.2839 - val_loss: 0.2858\n",
      "Epoch 15/20\n",
      "60000/60000 [==============================] - 17s 284us/step - loss: 0.2832 - val_loss: 0.2852\n",
      "Epoch 16/20\n",
      "60000/60000 [==============================] - 17s 277us/step - loss: 0.2826 - val_loss: 0.2846\n",
      "Epoch 17/20\n",
      "60000/60000 [==============================] - 17s 282us/step - loss: 0.2821 - val_loss: 0.2841\n",
      "Epoch 18/20\n",
      "60000/60000 [==============================] - 17s 283us/step - loss: 0.2816 - val_loss: 0.2836\n",
      "Epoch 19/20\n",
      "60000/60000 [==============================] - 19s 310us/step - loss: 0.2811 - val_loss: 0.2834\n",
      "Epoch 20/20\n",
      "60000/60000 [==============================] - 18s 295us/step - loss: 0.2807 - val_loss: 0.2831\n"
     ]
    },
    {
     "data": {
      "text/plain": [
       "<keras.callbacks.History at 0xb3bec9b00>"
      ]
     },
     "execution_count": 7,
     "metadata": {},
     "output_type": "execute_result"
    }
   ],
   "source": [
    "autoencoder.compile(optimizer='adam', loss='binary_crossentropy')\n",
    "\n",
    "autoencoder.fit(x=x_train, y=x_train, batch_size=256, epochs=20, shuffle=True,\n",
    "               validation_data=(x_test, x_test))"
   ]
  },
  {
   "cell_type": "markdown",
   "metadata": {},
   "source": [
    "## View the Code and Reconstruction\n",
    "\n",
    "Bring in the code from previous experiment to view the reconstruction and encoding performed by our deep AE for 10 random images. "
   ]
  },
  {
   "cell_type": "code",
   "execution_count": 8,
   "metadata": {},
   "outputs": [
    {
     "data": {
      "image/png": "[encoded data removed]",
      "text/plain": [
       "<Figure size 1296x288 with 30 Axes>"
      ]
     },
     "metadata": {
      "needs_background": "light"
     },
     "output_type": "display_data"
    }
   ],
   "source": [
    "# Randomly Select 10 images from the test set \n",
    "num_images = 10\n",
    "np.random.seed(50)\n",
    "random_test_images = np.random.randint(x_test.shape[0], size=num_images)\n",
    "\n",
    "encoded_imgs = encoder.predict(x_test)\n",
    "decoded_imgs = autoencoder.predict(x_test)\n",
    "\n",
    "plt.figure(figsize=(18, 4))\n",
    "\n",
    "for i, image_idx in enumerate(random_test_images):\n",
    "    \n",
    "    # plot original image\n",
    "    ax = plt.subplot(3, num_images, i + 1)\n",
    "    plt.imshow(x_test[image_idx].reshape(28, 28))\n",
    "    plt.gray()\n",
    "    ax.get_xaxis().set_visible(False)\n",
    "    ax.get_yaxis().set_visible(False)\n",
    "    \n",
    "    # plot encoded image\n",
    "    ax = plt.subplot(3, num_images, num_images + i + 1)\n",
    "    plt.imshow(encoded_imgs[image_idx].reshape(8, 4))\n",
    "    plt.gray()\n",
    "    ax.get_xaxis().set_visible(False)\n",
    "    ax.get_yaxis().set_visible(False)\n",
    "\n",
    "    # plot reconstructed image\n",
    "    ax = plt.subplot(3, num_images, 2*num_images + i + 1)\n",
    "    plt.imshow(decoded_imgs[image_idx].reshape(28, 28))\n",
    "    plt.gray()\n",
    "    ax.get_xaxis().set_visible(False)\n",
    "    ax.get_yaxis().set_visible(False)\n",
    "\n",
    "plt.show()"
   ]
  },
  {
   "cell_type": "markdown",
   "metadata": {},
   "source": [
    "---"
   ]
  },
  {
   "cell_type": "markdown",
   "metadata": {},
   "source": [
    "Do you notice any improvement over the previous model ? Let's admit it, there is not a huge change , due to the fact that we did not train the model to the point of convergence (for saving some time). Also, we did not use any cross validation techniques. We can improve these models by performing following tasks:\n"
   ]
  },
  {
   "cell_type": "markdown",
   "metadata": {},
   "source": [
    "## Level Up - Optional \n",
    "\n",
    "- Train both (simple and deep) AEs to 100 epochs and compare the results\n",
    "- Apply k-fold cross validation with deep AE (highly recommended for avoiding overfitting in deep networks) and check for any improvements.\n",
    "- Repeat the simple and deep AE labs with MNIST dataset (available in Keras).\n",
    "- Try this experiment with a high resolution (very high dimensionality) dataset. Caution: The training time may reach upto hours for a large dataset (or even days) - Thats where GPU/cloud computing comes into play. "
   ]
  },
  {
   "cell_type": "code",
   "execution_count": 9,
   "metadata": {
    "collapsed": true
   },
   "outputs": [
    {
     "name": "stdout",
     "output_type": "stream",
     "text": [
      "Train on 60000 samples, validate on 10000 samples\n",
      "Epoch 1/100\n",
      "60000/60000 [==============================] - 25s 413us/step - loss: 0.2815 - val_loss: 0.2824\n",
      "Epoch 2/100\n",
      "60000/60000 [==============================] - 21s 355us/step - loss: 0.2799 - val_loss: 0.2822\n",
      "Epoch 3/100\n",
      "60000/60000 [==============================] - 24s 392us/step - loss: 0.2797 - val_loss: 0.2823\n",
      "Epoch 4/100\n",
      "60000/60000 [==============================] - 19s 319us/step - loss: 0.2795 - val_loss: 0.2821\n",
      "Epoch 5/100\n",
      "60000/60000 [==============================] - 17s 279us/step - loss: 0.2793 - val_loss: 0.2815\n",
      "Epoch 6/100\n",
      "60000/60000 [==============================] - 17s 284us/step - loss: 0.2788 - val_loss: 0.2813\n",
      "Epoch 7/100\n",
      "60000/60000 [==============================] - 19s 322us/step - loss: 0.2787 - val_loss: 0.2811\n",
      "Epoch 8/100\n",
      "60000/60000 [==============================] - 18s 296us/step - loss: 0.2785 - val_loss: 0.2809\n",
      "Epoch 9/100\n",
      "60000/60000 [==============================] - 19s 311us/step - loss: 0.2781 - val_loss: 0.2806\n",
      "Epoch 10/100\n",
      "60000/60000 [==============================] - 17s 280us/step - loss: 0.2780 - val_loss: 0.2810\n",
      "Epoch 11/100\n",
      "60000/60000 [==============================] - 18s 292us/step - loss: 0.2778 - val_loss: 0.2805\n",
      "Epoch 12/100\n",
      "60000/60000 [==============================] - 17s 278us/step - loss: 0.2776 - val_loss: 0.2801\n",
      "Epoch 13/100\n",
      "60000/60000 [==============================] - 16s 274us/step - loss: 0.2774 - val_loss: 0.2797\n",
      "Epoch 14/100\n",
      "60000/60000 [==============================] - 16s 275us/step - loss: 0.2772 - val_loss: 0.2795\n",
      "Epoch 15/100\n",
      "60000/60000 [==============================] - 17s 280us/step - loss: 0.2771 - val_loss: 0.2795\n",
      "Epoch 16/100\n",
      "60000/60000 [==============================] - 16s 262us/step - loss: 0.2768 - val_loss: 0.2794\n",
      "Epoch 17/100\n",
      "60000/60000 [==============================] - 16s 268us/step - loss: 0.2767 - val_loss: 0.2794\n",
      "Epoch 18/100\n",
      "60000/60000 [==============================] - 18s 296us/step - loss: 0.2766 - val_loss: 0.2790\n",
      "Epoch 19/100\n",
      "60000/60000 [==============================] - 17s 289us/step - loss: 0.2764 - val_loss: 0.2789\n",
      "Epoch 20/100\n",
      "60000/60000 [==============================] - 19s 317us/step - loss: 0.2763 - val_loss: 0.2793\n",
      "Epoch 21/100\n",
      "60000/60000 [==============================] - 18s 293us/step - loss: 0.2761 - val_loss: 0.2787\n",
      "Epoch 22/100\n",
      "60000/60000 [==============================] - 17s 288us/step - loss: 0.2760 - val_loss: 0.2786\n",
      "Epoch 23/100\n",
      "60000/60000 [==============================] - 15s 252us/step - loss: 0.2759 - val_loss: 0.2784\n",
      "Epoch 24/100\n",
      "60000/60000 [==============================] - 15s 257us/step - loss: 0.2758 - val_loss: 0.2784\n",
      "Epoch 25/100\n",
      "60000/60000 [==============================] - 15s 251us/step - loss: 0.2757 - val_loss: 0.2782\n",
      "Epoch 26/100\n",
      "60000/60000 [==============================] - 15s 255us/step - loss: 0.2756 - val_loss: 0.2782\n",
      "Epoch 27/100\n",
      "60000/60000 [==============================] - 15s 253us/step - loss: 0.2755 - val_loss: 0.2784\n",
      "Epoch 28/100\n",
      "60000/60000 [==============================] - 15s 257us/step - loss: 0.2754 - val_loss: 0.2778\n",
      "Epoch 29/100\n",
      "60000/60000 [==============================] - 15s 252us/step - loss: 0.2753 - val_loss: 0.2777\n",
      "Epoch 30/100\n",
      "60000/60000 [==============================] - 15s 256us/step - loss: 0.2752 - val_loss: 0.2782\n",
      "Epoch 31/100\n",
      "60000/60000 [==============================] - 15s 256us/step - loss: 0.2751 - val_loss: 0.2776\n",
      "Epoch 32/100\n",
      "60000/60000 [==============================] - 15s 258us/step - loss: 0.2750 - val_loss: 0.2775\n",
      "Epoch 33/100\n",
      "60000/60000 [==============================] - 15s 253us/step - loss: 0.2749 - val_loss: 0.2776\n",
      "Epoch 34/100\n",
      "60000/60000 [==============================] - 16s 259us/step - loss: 0.2748 - val_loss: 0.2775\n",
      "Epoch 35/100\n",
      "60000/60000 [==============================] - 15s 256us/step - loss: 0.2748 - val_loss: 0.2774\n",
      "Epoch 36/100\n",
      "60000/60000 [==============================] - 15s 256us/step - loss: 0.2747 - val_loss: 0.2775\n",
      "Epoch 37/100\n",
      "60000/60000 [==============================] - 15s 252us/step - loss: 0.2747 - val_loss: 0.2772\n",
      "Epoch 38/100\n",
      "60000/60000 [==============================] - 15s 257us/step - loss: 0.2746 - val_loss: 0.2771\n",
      "Epoch 39/100\n",
      "60000/60000 [==============================] - 15s 253us/step - loss: 0.2745 - val_loss: 0.2778\n",
      "Epoch 40/100\n",
      "60000/60000 [==============================] - 15s 257us/step - loss: 0.2745 - val_loss: 0.2771\n",
      "Epoch 41/100\n",
      "60000/60000 [==============================] - 15s 255us/step - loss: 0.2743 - val_loss: 0.2772\n",
      "Epoch 42/100\n",
      "60000/60000 [==============================] - 15s 258us/step - loss: 0.2744 - val_loss: 0.2770\n",
      "Epoch 43/100\n",
      "60000/60000 [==============================] - 19s 313us/step - loss: 0.2743 - val_loss: 0.2769\n",
      "Epoch 44/100\n",
      "60000/60000 [==============================] - 19s 317us/step - loss: 0.2742 - val_loss: 0.2768\n",
      "Epoch 45/100\n",
      "60000/60000 [==============================] - 17s 290us/step - loss: 0.2741 - val_loss: 0.2773\n",
      "Epoch 46/100\n",
      "60000/60000 [==============================] - 18s 308us/step - loss: 0.2742 - val_loss: 0.2767\n",
      "Epoch 47/100\n",
      "60000/60000 [==============================] - 18s 295us/step - loss: 0.2740 - val_loss: 0.2767\n",
      "Epoch 48/100\n",
      "60000/60000 [==============================] - 19s 310us/step - loss: 0.2740 - val_loss: 0.2766\n",
      "Epoch 49/100\n",
      "60000/60000 [==============================] - 28s 461us/step - loss: 0.2739 - val_loss: 0.2768\n",
      "Epoch 50/100\n",
      "60000/60000 [==============================] - 26s 428us/step - loss: 0.2739 - val_loss: 0.2765\n",
      "Epoch 51/100\n",
      "60000/60000 [==============================] - 22s 370us/step - loss: 0.2739 - val_loss: 0.2766\n",
      "Epoch 52/100\n",
      "60000/60000 [==============================] - 23s 375us/step - loss: 0.2738 - val_loss: 0.2767\n",
      "Epoch 53/100\n",
      "60000/60000 [==============================] - 21s 352us/step - loss: 0.2738 - val_loss: 0.2766\n",
      "Epoch 54/100\n",
      "60000/60000 [==============================] - 21s 356us/step - loss: 0.2738 - val_loss: 0.2763\n",
      "Epoch 55/100\n",
      "60000/60000 [==============================] - 21s 348us/step - loss: 0.2737 - val_loss: 0.2763\n",
      "Epoch 56/100\n",
      "60000/60000 [==============================] - 21s 354us/step - loss: 0.2737 - val_loss: 0.2764\n",
      "Epoch 57/100\n",
      "60000/60000 [==============================] - 21s 348us/step - loss: 0.2736 - val_loss: 0.2762\n",
      "Epoch 58/100\n",
      "60000/60000 [==============================] - 21s 347us/step - loss: 0.2736 - val_loss: 0.2763\n",
      "Epoch 59/100\n",
      "60000/60000 [==============================] - 21s 351us/step - loss: 0.2735 - val_loss: 0.2763\n",
      "Epoch 60/100\n",
      "60000/60000 [==============================] - 22s 374us/step - loss: 0.2735 - val_loss: 0.2762\n",
      "Epoch 61/100\n",
      "60000/60000 [==============================] - 22s 364us/step - loss: 0.2735 - val_loss: 0.2761\n",
      "Epoch 62/100\n",
      "60000/60000 [==============================] - 23s 376us/step - loss: 0.2734 - val_loss: 0.2763\n",
      "Epoch 63/100\n",
      "60000/60000 [==============================] - 23s 382us/step - loss: 0.2734 - val_loss: 0.2761\n",
      "Epoch 64/100\n",
      "60000/60000 [==============================] - 20s 325us/step - loss: 0.2734 - val_loss: 0.2760\n",
      "Epoch 65/100\n",
      "60000/60000 [==============================] - 22s 373us/step - loss: 0.2734 - val_loss: 0.2762\n",
      "Epoch 66/100\n",
      "60000/60000 [==============================] - 22s 363us/step - loss: 0.2733 - val_loss: 0.2761\n",
      "Epoch 67/100\n",
      "60000/60000 [==============================] - 21s 353us/step - loss: 0.2733 - val_loss: 0.2762\n",
      "Epoch 68/100\n",
      "60000/60000 [==============================] - 21s 352us/step - loss: 0.2732 - val_loss: 0.2761\n",
      "Epoch 69/100\n",
      "60000/60000 [==============================] - 23s 384us/step - loss: 0.2733 - val_loss: 0.2761\n",
      "Epoch 70/100\n",
      "60000/60000 [==============================] - 19s 316us/step - loss: 0.2732 - val_loss: 0.2761\n",
      "Epoch 71/100\n",
      "60000/60000 [==============================] - 18s 304us/step - loss: 0.2732 - val_loss: 0.2757\n",
      "Epoch 72/100\n",
      "60000/60000 [==============================] - 17s 284us/step - loss: 0.2731 - val_loss: 0.2758\n",
      "Epoch 73/100\n",
      "60000/60000 [==============================] - 17s 279us/step - loss: 0.2731 - val_loss: 0.2763\n",
      "Epoch 74/100\n",
      "60000/60000 [==============================] - 17s 286us/step - loss: 0.2731 - val_loss: 0.2761\n",
      "Epoch 75/100\n",
      "60000/60000 [==============================] - 17s 281us/step - loss: 0.2731 - val_loss: 0.2759\n"
     ]
    },
    {
     "name": "stdout",
     "output_type": "stream",
     "text": [
      "Epoch 76/100\n",
      "60000/60000 [==============================] - 17s 281us/step - loss: 0.2730 - val_loss: 0.2758\n",
      "Epoch 77/100\n",
      "60000/60000 [==============================] - 16s 273us/step - loss: 0.2730 - val_loss: 0.2757\n",
      "Epoch 78/100\n",
      "60000/60000 [==============================] - 17s 286us/step - loss: 0.2729 - val_loss: 0.2757\n",
      "Epoch 79/100\n",
      "60000/60000 [==============================] - 16s 272us/step - loss: 0.2729 - val_loss: 0.2758\n",
      "Epoch 80/100\n",
      "60000/60000 [==============================] - 17s 279us/step - loss: 0.2729 - val_loss: 0.2758\n",
      "Epoch 81/100\n",
      "60000/60000 [==============================] - 16s 274us/step - loss: 0.2729 - val_loss: 0.2757\n",
      "Epoch 82/100\n",
      "60000/60000 [==============================] - 17s 281us/step - loss: 0.2729 - val_loss: 0.2757\n",
      "Epoch 83/100\n",
      "60000/60000 [==============================] - 17s 284us/step - loss: 0.2729 - val_loss: 0.2760\n",
      "Epoch 84/100\n",
      "60000/60000 [==============================] - 17s 282us/step - loss: 0.2728 - val_loss: 0.2757\n",
      "Epoch 85/100\n",
      "60000/60000 [==============================] - 17s 284us/step - loss: 0.2728 - val_loss: 0.2756\n",
      "Epoch 86/100\n",
      "60000/60000 [==============================] - 17s 277us/step - loss: 0.2728 - val_loss: 0.2754\n",
      "Epoch 87/100\n",
      "60000/60000 [==============================] - 17s 282us/step - loss: 0.2728 - val_loss: 0.2757\n",
      "Epoch 88/100\n",
      "60000/60000 [==============================] - 17s 277us/step - loss: 0.2727 - val_loss: 0.2755\n",
      "Epoch 89/100\n",
      "60000/60000 [==============================] - 17s 286us/step - loss: 0.2727 - val_loss: 0.2757\n",
      "Epoch 90/100\n",
      "60000/60000 [==============================] - 17s 280us/step - loss: 0.2727 - val_loss: 0.2755\n",
      "Epoch 91/100\n",
      "60000/60000 [==============================] - 17s 284us/step - loss: 0.2727 - val_loss: 0.2753\n",
      "Epoch 92/100\n",
      "60000/60000 [==============================] - 17s 279us/step - loss: 0.2727 - val_loss: 0.2756\n",
      "Epoch 93/100\n",
      "60000/60000 [==============================] - 17s 283us/step - loss: 0.2726 - val_loss: 0.2755\n",
      "Epoch 94/100\n",
      "60000/60000 [==============================] - 17s 278us/step - loss: 0.2727 - val_loss: 0.2752\n",
      "Epoch 95/100\n",
      "60000/60000 [==============================] - 17s 284us/step - loss: 0.2726 - val_loss: 0.2755\n",
      "Epoch 96/100\n",
      "60000/60000 [==============================] - 17s 279us/step - loss: 0.2726 - val_loss: 0.2754\n",
      "Epoch 97/100\n",
      "60000/60000 [==============================] - 17s 281us/step - loss: 0.2725 - val_loss: 0.2753\n",
      "Epoch 98/100\n",
      "60000/60000 [==============================] - 17s 278us/step - loss: 0.2726 - val_loss: 0.2753\n",
      "Epoch 99/100\n",
      "60000/60000 [==============================] - 17s 286us/step - loss: 0.2725 - val_loss: 0.2752\n",
      "Epoch 100/100\n",
      "60000/60000 [==============================] - 17s 284us/step - loss: 0.2725 - val_loss: 0.2753\n"
     ]
    },
    {
     "data": {
      "text/plain": [
       "<keras.callbacks.History at 0xb3c7b6e80>"
      ]
     },
     "execution_count": 9,
     "metadata": {},
     "output_type": "execute_result"
    }
   ],
   "source": [
    "autoencoder.compile(optimizer='adam', loss='binary_crossentropy')\n",
    "\n",
    "autoencoder.fit(x=x_train, y=x_train, batch_size=256, epochs=100, shuffle=True,\n",
    "               validation_data=(x_test, x_test))"
   ]
  },
  {
   "cell_type": "code",
   "execution_count": 10,
   "metadata": {},
   "outputs": [
    {
     "data": {
      "image/png": "[encoded data removed]",
      "text/plain": [
       "<Figure size 1296x288 with 30 Axes>"
      ]
     },
     "metadata": {
      "needs_background": "light"
     },
     "output_type": "display_data"
    }
   ],
   "source": [
    "# Randomly Select 10 images from the test set \n",
    "num_images = 10\n",
    "np.random.seed(50)\n",
    "random_test_images = np.random.randint(x_test.shape[0], size=num_images)\n",
    "\n",
    "encoded_imgs = encoder.predict(x_test)\n",
    "decoded_imgs = autoencoder.predict(x_test)\n",
    "\n",
    "plt.figure(figsize=(18, 4))\n",
    "\n",
    "for i, image_idx in enumerate(random_test_images):\n",
    "    \n",
    "    # plot original image\n",
    "    ax = plt.subplot(3, num_images, i + 1)\n",
    "    plt.imshow(x_test[image_idx].reshape(28, 28))\n",
    "    plt.gray()\n",
    "    ax.get_xaxis().set_visible(False)\n",
    "    ax.get_yaxis().set_visible(False)\n",
    "    \n",
    "    # plot encoded image\n",
    "    ax = plt.subplot(3, num_images, num_images + i + 1)\n",
    "    plt.imshow(encoded_imgs[image_idx].reshape(8, 4))\n",
    "    plt.gray()\n",
    "    ax.get_xaxis().set_visible(False)\n",
    "    ax.get_yaxis().set_visible(False)\n",
    "\n",
    "    # plot reconstructed image\n",
    "    ax = plt.subplot(3, num_images, 2*num_images + i + 1)\n",
    "    plt.imshow(decoded_imgs[image_idx].reshape(28, 28))\n",
    "    plt.gray()\n",
    "    ax.get_xaxis().set_visible(False)\n",
    "    ax.get_yaxis().set_visible(False)\n",
    "\n",
    "plt.show()"
   ]
  },
  {
   "cell_type": "markdown",
   "metadata": {},
   "source": [
    "## Summary \n",
    "\n",
    "In this lab, we created a deep Autoencoder following the similar approach and dataset from our previous lab. We developed 3 layer encoder and decoder functions in keras and trained the network for 20 epochs. Next, we shall look into an AE architecture which is highly suitable for Image data - The Convolutional Auto-Encoder. "
   ]
  }
 ],
 "metadata": {
  "kernelspec": {
   "display_name": "Python 3",
   "language": "python",
   "name": "python3"
  },
  "language_info": {
   "codemirror_mode": {
    "name": "ipython",
    "version": 3
   },
   "file_extension": ".py",
   "mimetype": "text/x-python",
   "name": "python",
   "nbconvert_exporter": "python",
   "pygments_lexer": "ipython3",
   "version": "3.6.8"
  }
 },
 "nbformat": 4,
 "nbformat_minor": 2
}
